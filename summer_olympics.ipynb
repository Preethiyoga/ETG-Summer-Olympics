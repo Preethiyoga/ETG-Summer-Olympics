{
  "nbformat": 4,
  "nbformat_minor": 0,
  "metadata": {
    "colab": {
      "name": "summer_olympics.ipynb",
      "provenance": [],
      "collapsed_sections": [],
      "authorship_tag": "ABX9TyOAEsj6y8KW7LFspOtjgZPB",
      "include_colab_link": true
    },
    "kernelspec": {
      "name": "python3",
      "display_name": "Python 3"
    },
    "language_info": {
      "name": "python"
    }
  },
  "cells": [
    {
      "cell_type": "markdown",
      "metadata": {
        "id": "view-in-github",
        "colab_type": "text"
      },
      "source": [
        "<a href=\"https://colab.research.google.com/github/Preethiyoga/ETG-Summer-Olympics/blob/main/summer_olympics.ipynb\" target=\"_parent\"><img src=\"https://colab.research.google.com/assets/colab-badge.svg\" alt=\"Open In Colab\"/></a>"
      ]
    },
    {
      "cell_type": "code",
      "metadata": {
        "id": "4KrWxJ1O2Gz7"
      },
      "source": [
        "import pandas as pd\n"
      ],
      "execution_count": null,
      "outputs": []
    },
    {
      "cell_type": "code",
      "metadata": {
        "id": "ZTeu9snM2pbH"
      },
      "source": [
        "df=pd.read_csv('summer.csv')"
      ],
      "execution_count": null,
      "outputs": []
    },
    {
      "cell_type": "code",
      "metadata": {
        "colab": {
          "base_uri": "https://localhost:8080/",
          "height": 408
        },
        "id": "wYi3gecB3gqb",
        "outputId": "9eea17a0-03d3-4e61-8a4f-d920c4c43367"
      },
      "source": [
        "df.loc[(df['Medal'].notnull()) & (df['Sport']=='Aquatics')]"
      ],
      "execution_count": null,
      "outputs": [
        {
          "output_type": "execute_result",
          "data": {
            "text/html": [
              "<div>\n",
              "<style scoped>\n",
              "    .dataframe tbody tr th:only-of-type {\n",
              "        vertical-align: middle;\n",
              "    }\n",
              "\n",
              "    .dataframe tbody tr th {\n",
              "        vertical-align: top;\n",
              "    }\n",
              "\n",
              "    .dataframe thead th {\n",
              "        text-align: right;\n",
              "    }\n",
              "</style>\n",
              "<table border=\"1\" class=\"dataframe\">\n",
              "  <thead>\n",
              "    <tr style=\"text-align: right;\">\n",
              "      <th></th>\n",
              "      <th>Year</th>\n",
              "      <th>City</th>\n",
              "      <th>Sport</th>\n",
              "      <th>Discipline</th>\n",
              "      <th>Athlete</th>\n",
              "      <th>Country</th>\n",
              "      <th>Gender</th>\n",
              "      <th>Event</th>\n",
              "      <th>Medal</th>\n",
              "    </tr>\n",
              "  </thead>\n",
              "  <tbody>\n",
              "    <tr>\n",
              "      <th>0</th>\n",
              "      <td>1896</td>\n",
              "      <td>Athens</td>\n",
              "      <td>Aquatics</td>\n",
              "      <td>Swimming</td>\n",
              "      <td>HAJOS, Alfred</td>\n",
              "      <td>HUN</td>\n",
              "      <td>Men</td>\n",
              "      <td>100M Freestyle</td>\n",
              "      <td>Gold</td>\n",
              "    </tr>\n",
              "    <tr>\n",
              "      <th>1</th>\n",
              "      <td>1896</td>\n",
              "      <td>Athens</td>\n",
              "      <td>Aquatics</td>\n",
              "      <td>Swimming</td>\n",
              "      <td>HERSCHMANN, Otto</td>\n",
              "      <td>AUT</td>\n",
              "      <td>Men</td>\n",
              "      <td>100M Freestyle</td>\n",
              "      <td>Silver</td>\n",
              "    </tr>\n",
              "    <tr>\n",
              "      <th>2</th>\n",
              "      <td>1896</td>\n",
              "      <td>Athens</td>\n",
              "      <td>Aquatics</td>\n",
              "      <td>Swimming</td>\n",
              "      <td>DRIVAS, Dimitrios</td>\n",
              "      <td>GRE</td>\n",
              "      <td>Men</td>\n",
              "      <td>100M Freestyle For Sailors</td>\n",
              "      <td>Bronze</td>\n",
              "    </tr>\n",
              "    <tr>\n",
              "      <th>3</th>\n",
              "      <td>1896</td>\n",
              "      <td>Athens</td>\n",
              "      <td>Aquatics</td>\n",
              "      <td>Swimming</td>\n",
              "      <td>MALOKINIS, Ioannis</td>\n",
              "      <td>GRE</td>\n",
              "      <td>Men</td>\n",
              "      <td>100M Freestyle For Sailors</td>\n",
              "      <td>Gold</td>\n",
              "    </tr>\n",
              "    <tr>\n",
              "      <th>4</th>\n",
              "      <td>1896</td>\n",
              "      <td>Athens</td>\n",
              "      <td>Aquatics</td>\n",
              "      <td>Swimming</td>\n",
              "      <td>CHASAPIS, Spiridon</td>\n",
              "      <td>GRE</td>\n",
              "      <td>Men</td>\n",
              "      <td>100M Freestyle For Sailors</td>\n",
              "      <td>Silver</td>\n",
              "    </tr>\n",
              "    <tr>\n",
              "      <th>...</th>\n",
              "      <td>...</td>\n",
              "      <td>...</td>\n",
              "      <td>...</td>\n",
              "      <td>...</td>\n",
              "      <td>...</td>\n",
              "      <td>...</td>\n",
              "      <td>...</td>\n",
              "      <td>...</td>\n",
              "      <td>...</td>\n",
              "    </tr>\n",
              "    <tr>\n",
              "      <th>29553</th>\n",
              "      <td>2012</td>\n",
              "      <td>London</td>\n",
              "      <td>Aquatics</td>\n",
              "      <td>Water Polo</td>\n",
              "      <td>RIPPON, Melissa</td>\n",
              "      <td>AUS</td>\n",
              "      <td>Women</td>\n",
              "      <td>Water Polo</td>\n",
              "      <td>Bronze</td>\n",
              "    </tr>\n",
              "    <tr>\n",
              "      <th>29554</th>\n",
              "      <td>2012</td>\n",
              "      <td>London</td>\n",
              "      <td>Aquatics</td>\n",
              "      <td>Water Polo</td>\n",
              "      <td>SMITH, Sophie</td>\n",
              "      <td>AUS</td>\n",
              "      <td>Women</td>\n",
              "      <td>Water Polo</td>\n",
              "      <td>Bronze</td>\n",
              "    </tr>\n",
              "    <tr>\n",
              "      <th>29555</th>\n",
              "      <td>2012</td>\n",
              "      <td>London</td>\n",
              "      <td>Aquatics</td>\n",
              "      <td>Water Polo</td>\n",
              "      <td>SOUTHERN, Ash</td>\n",
              "      <td>AUS</td>\n",
              "      <td>Women</td>\n",
              "      <td>Water Polo</td>\n",
              "      <td>Bronze</td>\n",
              "    </tr>\n",
              "    <tr>\n",
              "      <th>29556</th>\n",
              "      <td>2012</td>\n",
              "      <td>London</td>\n",
              "      <td>Aquatics</td>\n",
              "      <td>Water Polo</td>\n",
              "      <td>WEBSTER, Rowie</td>\n",
              "      <td>AUS</td>\n",
              "      <td>Women</td>\n",
              "      <td>Water Polo</td>\n",
              "      <td>Bronze</td>\n",
              "    </tr>\n",
              "    <tr>\n",
              "      <th>29557</th>\n",
              "      <td>2012</td>\n",
              "      <td>London</td>\n",
              "      <td>Aquatics</td>\n",
              "      <td>Water Polo</td>\n",
              "      <td>ZAGAME, Nicola</td>\n",
              "      <td>AUS</td>\n",
              "      <td>Women</td>\n",
              "      <td>Water Polo</td>\n",
              "      <td>Bronze</td>\n",
              "    </tr>\n",
              "  </tbody>\n",
              "</table>\n",
              "<p>4170 rows × 9 columns</p>\n",
              "</div>"
            ],
            "text/plain": [
              "       Year    City     Sport  ... Gender                       Event   Medal\n",
              "0      1896  Athens  Aquatics  ...    Men              100M Freestyle    Gold\n",
              "1      1896  Athens  Aquatics  ...    Men              100M Freestyle  Silver\n",
              "2      1896  Athens  Aquatics  ...    Men  100M Freestyle For Sailors  Bronze\n",
              "3      1896  Athens  Aquatics  ...    Men  100M Freestyle For Sailors    Gold\n",
              "4      1896  Athens  Aquatics  ...    Men  100M Freestyle For Sailors  Silver\n",
              "...     ...     ...       ...  ...    ...                         ...     ...\n",
              "29553  2012  London  Aquatics  ...  Women                  Water Polo  Bronze\n",
              "29554  2012  London  Aquatics  ...  Women                  Water Polo  Bronze\n",
              "29555  2012  London  Aquatics  ...  Women                  Water Polo  Bronze\n",
              "29556  2012  London  Aquatics  ...  Women                  Water Polo  Bronze\n",
              "29557  2012  London  Aquatics  ...  Women                  Water Polo  Bronze\n",
              "\n",
              "[4170 rows x 9 columns]"
            ]
          },
          "metadata": {},
          "execution_count": 80
        }
      ]
    },
    {
      "cell_type": "code",
      "metadata": {
        "id": "gGoqRe3JAHsB"
      },
      "source": [
        ""
      ],
      "execution_count": null,
      "outputs": []
    },
    {
      "cell_type": "code",
      "metadata": {
        "colab": {
          "base_uri": "https://localhost:8080/"
        },
        "id": "wjWAES5H-GhT",
        "outputId": "9f7c2f02-5207-46d2-f6df-b691ea4fed87"
      },
      "source": [
        "df.isnull().sum()"
      ],
      "execution_count": null,
      "outputs": [
        {
          "output_type": "execute_result",
          "data": {
            "text/plain": [
              "Year          0\n",
              "City          0\n",
              "Sport         0\n",
              "Discipline    0\n",
              "Athlete       0\n",
              "Country       4\n",
              "Gender        0\n",
              "Event         0\n",
              "Medal         0\n",
              "dtype: int64"
            ]
          },
          "metadata": {},
          "execution_count": 5
        }
      ]
    },
    {
      "cell_type": "markdown",
      "metadata": {
        "id": "sswc1onD3Krn"
      },
      "source": [
        "# In how many cities summer olympics is held so far"
      ]
    },
    {
      "cell_type": "code",
      "metadata": {
        "colab": {
          "base_uri": "https://localhost:8080/"
        },
        "id": "WvQX76cA3OkV",
        "outputId": "c897bc57-3029-4aff-d62c-0250731b8c0d"
      },
      "source": [
        "print(\"Number of cities in which summer olympics held so far is : \")\n",
        "print(len(df['City'].unique()))"
      ],
      "execution_count": null,
      "outputs": [
        {
          "output_type": "stream",
          "name": "stdout",
          "text": [
            "Number of cities in which summer olympics held so far is : \n",
            "22\n"
          ]
        }
      ]
    },
    {
      "cell_type": "markdown",
      "metadata": {
        "id": "uCbdN_nz3zHl"
      },
      "source": [
        "# Which sport is having most number of gold medals?\n"
      ]
    },
    {
      "cell_type": "code",
      "metadata": {
        "colab": {
          "base_uri": "https://localhost:8080/",
          "height": 415
        },
        "id": "3BqSBAPp4EUM",
        "outputId": "301d7a60-0aeb-4ba9-dd34-084c6298acb7"
      },
      "source": [
        "print(\"The sport which is having most number of gold medals  :  \")\n",
        "\n",
        "df[df['Medal']=='Gold'].groupby('Sport').size().sort_values(ascending=False).head().plot.bar(figsize=(10,5))\n"
      ],
      "execution_count": null,
      "outputs": [
        {
          "output_type": "stream",
          "name": "stdout",
          "text": [
            "The sport which is having most number of gold medals  :  \n"
          ]
        },
        {
          "output_type": "execute_result",
          "data": {
            "text/plain": [
              "<matplotlib.axes._subplots.AxesSubplot at 0x7f3be2043310>"
            ]
          },
          "metadata": {},
          "execution_count": 14
        },
        {
          "output_type": "display_data",
          "data": {
            "image/png": "[encoded data removed]",
            "text/plain": [
              "<Figure size 720x360 with 1 Axes>"
            ]
          },
          "metadata": {
            "needs_background": "light"
          }
        }
      ]
    },
    {
      "cell_type": "markdown",
      "metadata": {
        "id": "M_Fd0yOa9F4C"
      },
      "source": [
        "# Which sport is having most number of medals so far"
      ]
    },
    {
      "cell_type": "code",
      "metadata": {
        "colab": {
          "base_uri": "https://localhost:8080/",
          "height": 415
        },
        "id": "coSrCazP38va",
        "outputId": "4f09ac13-a104-446e-87a1-41f22186f216"
      },
      "source": [
        "print(\"The sport which is having most number of medals is:\")\n",
        "df.groupby('Sport').size().sort_values(ascending=False).head().plot.bar(figsize=(10,5))"
      ],
      "execution_count": null,
      "outputs": [
        {
          "output_type": "stream",
          "name": "stdout",
          "text": [
            "The sport which is having most number of medals is:\n"
          ]
        },
        {
          "output_type": "execute_result",
          "data": {
            "text/plain": [
              "<matplotlib.axes._subplots.AxesSubplot at 0x7f3be1a1cd10>"
            ]
          },
          "metadata": {},
          "execution_count": 15
        },
        {
          "output_type": "display_data",
          "data": {
            "image/png": "[encoded data removed]",
            "text/plain": [
              "<Figure size 720x360 with 1 Axes>"
            ]
          },
          "metadata": {
            "needs_background": "light"
          }
        }
      ]
    },
    {
      "cell_type": "markdown",
      "metadata": {
        "id": "zYR0qHlx9x_Q"
      },
      "source": [
        "# Which player won most number of medals"
      ]
    },
    {
      "cell_type": "code",
      "metadata": {
        "colab": {
          "base_uri": "https://localhost:8080/",
          "height": 473
        },
        "id": "bTXsOQsK9201",
        "outputId": "90247e16-7691-42a5-96cf-bcfd7b90cfcd"
      },
      "source": [
        "print(\"The palyer who won most number of medals:\")\n",
        "df.groupby('Athlete').size().sort_values(ascending=False).head().plot.bar(figsize=(10,5))"
      ],
      "execution_count": null,
      "outputs": [
        {
          "output_type": "stream",
          "name": "stdout",
          "text": [
            "The palyer who won most number of medals:\n"
          ]
        },
        {
          "output_type": "execute_result",
          "data": {
            "text/plain": [
              "<matplotlib.axes._subplots.AxesSubplot at 0x7f3be199bad0>"
            ]
          },
          "metadata": {},
          "execution_count": 16
        },
        {
          "output_type": "display_data",
          "data": {
            "image/png": "[encoded data removed]",
            "text/plain": [
              "<Figure size 720x360 with 1 Axes>"
            ]
          },
          "metadata": {
            "needs_background": "light"
          }
        }
      ]
    },
    {
      "cell_type": "markdown",
      "metadata": {
        "id": "okXwLRnA-ne_"
      },
      "source": [
        "# Which player won most number of GOLD medal\n",
        "\n"
      ]
    },
    {
      "cell_type": "code",
      "metadata": {
        "colab": {
          "base_uri": "https://localhost:8080/",
          "height": 441
        },
        "id": "3nLMQ_A1-smL",
        "outputId": "276ac54d-7186-49d4-c38c-a165895e3f81"
      },
      "source": [
        "print(\"The palyer who won most number of Gold medal:\")\n",
        "df[df['Medal']=='Gold'].groupby('Athlete').size().sort_values(ascending=False).head().plot.bar(figsize=(10,5))"
      ],
      "execution_count": null,
      "outputs": [
        {
          "output_type": "stream",
          "name": "stdout",
          "text": [
            "The palyer who won most number of Gold medal:\n"
          ]
        },
        {
          "output_type": "execute_result",
          "data": {
            "text/plain": [
              "<matplotlib.axes._subplots.AxesSubplot at 0x7f3be1a0f790>"
            ]
          },
          "metadata": {},
          "execution_count": 17
        },
        {
          "output_type": "display_data",
          "data": {
            "image/png": "[encoded data removed]",
            "text/plain": [
              "<Figure size 720x360 with 1 Axes>"
            ]
          },
          "metadata": {
            "needs_background": "light"
          }
        }
      ]
    },
    {
      "cell_type": "markdown",
      "metadata": {
        "id": "sFMHK4Kj-8xn"
      },
      "source": [
        "# In which Year India won first gold medal in summer olympics"
      ]
    },
    {
      "cell_type": "code",
      "metadata": {
        "colab": {
          "base_uri": "https://localhost:8080/"
        },
        "id": "I4AoUr8G-7y6",
        "outputId": "e4969b2e-2317-400c-f5ed-fa168e939c15"
      },
      "source": [
        "print(\"The Year in which India won its first gold medal in summer olympics : \")\n",
        "df1=df[df['Country']=='IND']\n",
        "df2=df1[df1['Medal']=='Gold'].head(1)\n",
        "print(df2['Year'])"
      ],
      "execution_count": null,
      "outputs": [
        {
          "output_type": "stream",
          "name": "stdout",
          "text": [
            "The Year in which India won its first gold medal in summer olympics : \n",
            "5512    1928\n",
            "Name: Year, dtype: int64\n"
          ]
        }
      ]
    },
    {
      "cell_type": "code",
      "metadata": {
        "id": "yNM4CBFTBCl3"
      },
      "source": [
        ""
      ],
      "execution_count": null,
      "outputs": []
    },
    {
      "cell_type": "markdown",
      "metadata": {
        "id": "aIEzvIngBD0c"
      },
      "source": [
        "# Which event is most popular in terms of number of players"
      ]
    },
    {
      "cell_type": "code",
      "metadata": {
        "colab": {
          "base_uri": "https://localhost:8080/",
          "height": 483
        },
        "id": "QLwCe0f6BOiU",
        "outputId": "e695012d-9542-42ff-c2fc-b8304874d692"
      },
      "source": [
        "print(\"The most popular event in terms of number of players : \")\n",
        "df1=pd.DataFrame(df)\n",
        "group=df.groupby('Event')\n",
        "data=[]\n",
        "for eve in group.groups.keys():\n",
        "  eve_grp=group.get_group(eve)\n",
        "  data.append([eve,len(set(eve_grp['Athlete']))])\n",
        "pd.DataFrame(data,columns=['Event','freq']).sort_values(by='freq',ascending=False).head().plot(x='Event',y='freq',kind='bar', figsize=(10,5))"
      ],
      "execution_count": null,
      "outputs": [
        {
          "output_type": "stream",
          "name": "stdout",
          "text": [
            "The most popular event in terms of number of players : \n"
          ]
        },
        {
          "output_type": "execute_result",
          "data": {
            "text/plain": [
              "<matplotlib.axes._subplots.AxesSubplot at 0x7f3bdca1e050>"
            ]
          },
          "metadata": {},
          "execution_count": 62
        },
        {
          "output_type": "display_data",
          "data": {
            "image/png": "[encoded data removed]",
            "text/plain": [
              "<Figure size 720x360 with 1 Axes>"
            ]
          },
          "metadata": {
            "needs_background": "light"
          }
        }
      ]
    },
    {
      "cell_type": "markdown",
      "metadata": {
        "id": "WgGeKu6_FtS9"
      },
      "source": [
        "# Which sport is having most female gold medalists"
      ]
    },
    {
      "cell_type": "code",
      "metadata": {
        "colab": {
          "base_uri": "https://localhost:8080/",
          "height": 360
        },
        "id": "HVXj4sD6GZrI",
        "outputId": "eb0ea381-fa8b-48f3-f25c-16fcdb7425b5"
      },
      "source": [
        "print(\"The top 5 sports having most female gold medalists\")\n",
        "df1=df[df['Gender']=='Women']\n",
        "df1[df1['Medal']=='Gold'].groupby('Sport').size().sort_values(ascending=False).head().plot.bar(10,5)"
      ],
      "execution_count": null,
      "outputs": [
        {
          "output_type": "stream",
          "name": "stdout",
          "text": [
            "The top 5 sports having most female gold medalists\n"
          ]
        },
        {
          "output_type": "execute_result",
          "data": {
            "text/plain": [
              "<matplotlib.axes._subplots.AxesSubplot at 0x7f3bdb7958d0>"
            ]
          },
          "metadata": {},
          "execution_count": 60
        },
        {
          "output_type": "display_data",
          "data": {
            "image/png": "[encoded data removed]",
            "text/plain": [
              "<Figure size 432x288 with 1 Axes>"
            ]
          },
          "metadata": {
            "needs_background": "light"
          }
        }
      ]
    }
  ]
}